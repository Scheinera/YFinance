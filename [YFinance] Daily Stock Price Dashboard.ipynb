{
 "cells": [
  {
   "cell_type": "markdown",
   "metadata": {
    "cell_id": "3332d82e90ca4d239cb59ccef94bd43b",
    "deepnote_cell_type": "text-cell-h1",
    "formattedRanges": [],
    "is_collapsed": false,
    "owner_user_id": "50b4d40c-7ac7-4e6b-88ea-b6c70190d54e",
    "tags": []
   },
   "source": [
    "# Daily Stock Dashboard"
   ]
  },
  {
   "cell_type": "markdown",
   "metadata": {
    "cell_id": "9e60048abfb944218b3cf6ebe2bbfbbe",
    "deepnote_cell_type": "text-cell-p",
    "formattedRanges": [],
    "is_collapsed": false,
    "owner_user_id": "c0bf84b7-11ed-4fa3-82dd-a8dec30d9c2e",
    "tags": []
   },
   "source": [
    "We use the Yahoo Finance library in order to read live stock data for Microsoft and Salesforce."
   ]
  },
  {
   "cell_type": "markdown",
   "metadata": {
    "cell_id": "ffa8f3fed6bb4981a26183528efbb1eb",
    "deepnote_cell_type": "text-cell-h2",
    "formattedRanges": [],
    "is_collapsed": false,
    "tags": []
   },
   "source": [
    "## Time Series"
   ]
  },
  {
   "cell_type": "code",
   "execution_count": 5,
   "metadata": {
    "ExecuteTime": {
     "end_time": "2023-09-19T01:53:33.123552Z",
     "start_time": "2023-09-19T01:53:32.740363Z"
    },
    "collapsed": false
   },
   "outputs": [],
   "source": [
    "from datetime import datetime\n",
    "import pandas as pd\n",
    "import plotly.graph_objects as go\n",
    "import yfinance as yf\n",
    "import schedule"
   ]
  },
  {
   "cell_type": "code",
   "execution_count": null,
   "metadata": {
    "ExecuteTime": {
     "end_time": "2023-09-19T01:53:35.156037Z",
     "start_time": "2023-09-19T01:53:33.145216Z"
    },
    "collapsed": false
   },
   "outputs": [],
   "source": [
    "# Get the last 365 days of Microsoft and Apple stock at a 1 day frequency\n",
    "msft = yf.Ticker(\"MSFT\") \n",
    "aapl = yf.Ticker(\"AAPL\")\n",
    "\n",
    "end_date = pd.Timestamp.today()\n",
    "start_date = end_date - pd.Timedelta(365,'D')\n",
    "data = msft.history(start=start_date,end=end_date, interval='1d').reset_index()\n",
    "\n",
    "\n",
    "# Plot as a line chart\n",
    "fig = go.Figure(data=go.Scatter(\n",
    "        x=data.Date,\n",
    "        y=data.Close,\n",
    "        mode='lines'\n",
    "))\n",
    "fig.update_layout( \n",
    "    title='Microsoft / Apple (MSFT / AAPL)',\n",
    "    title_x=0.5,\n",
    "    autosize=False,\n",
    "    width=800,\n",
    "    height=500,\n",
    "    xaxis= dict(rangeselector=dict(\n",
    "        buttons=list([\n",
    "            dict(count=30,\n",
    "                    label=\"30D\",\n",
    "                    step=\"day\",\n",
    "                    stepmode=\"backward\"),\n",
    "            dict(count=6,\n",
    "                    label=\"6M\",\n",
    "                    step=\"month\",\n",
    "                    stepmode=\"backward\"),\n",
    "            dict(count=1,\n",
    "                    label=\"YTD\",\n",
    "                    step=\"year\",\n",
    "                    stepmode=\"todate\"),\n",
    "            dict(count=1,\n",
    "                    label=\"1Y\",\n",
    "                    step=\"year\",\n",
    "                    stepmode=\"backward\")\n",
    "        ])\n",
    "    )),\n",
    ")\n",
    "fig.show()"
   ]
  },
  {
   "cell_type": "markdown",
   "metadata": {
    "collapsed": false
   },
   "source": [
    "### "
   ]
  },
  {
   "cell_type": "markdown",
   "metadata": {
    "collapsed": false
   },
   "source": [
    "## Candlestick Chart"
   ]
  },
  {
   "cell_type": "code",
   "execution_count": 4,
   "metadata": {
    "ExecuteTime": {
     "end_time": "2023-09-19T01:53:35.953664Z",
     "start_time": "2023-09-19T01:53:35.033787Z"
    },
    "collapsed": false
   },
   "outputs": [
    {
     "name": "stderr",
     "output_type": "stream",
     "text": [
      "/Users/scheiner/Documents/GitHub/.venv/lib/python3.11/site-packages/_plotly_utils/basevalidators.py:105: FutureWarning:\n",
      "\n",
      "The behavior of DatetimeProperties.to_pydatetime is deprecated, in a future version this will return a Series containing python datetime objects instead of an ndarray. To retain the old behavior, call `np.array` on the result\n",
      "\n"
     ]
    },
    {
     "ename": "ValueError",
     "evalue": "Mime type rendering requires nbformat>=4.2.0 but it is not installed",
     "output_type": "error",
     "traceback": [
      "\u001b[0;31m---------------------------------------------------------------------------\u001b[0m",
      "\u001b[0;31mValueError\u001b[0m                                Traceback (most recent call last)",
      "\u001b[1;32m/Users/scheiner/Documents/GitHub/YFinance/[YFinance] Daily Stock Price Dashboard.ipynb Célula 8\u001b[0m line \u001b[0;36m3\n\u001b[1;32m     <a href='vscode-notebook-cell:/Users/scheiner/Documents/GitHub/YFinance/%5BYFinance%5D%20Daily%20Stock%20Price%20Dashboard.ipynb#X10sZmlsZQ%3D%3D?line=16'>17</a>\u001b[0m fig\u001b[39m.\u001b[39mupdate_layout( \n\u001b[1;32m     <a href='vscode-notebook-cell:/Users/scheiner/Documents/GitHub/YFinance/%5BYFinance%5D%20Daily%20Stock%20Price%20Dashboard.ipynb#X10sZmlsZQ%3D%3D?line=17'>18</a>\u001b[0m      title\u001b[39m=\u001b[39m\u001b[39m'\u001b[39m\u001b[39mMicrosoft (MSFT)\u001b[39m\u001b[39m'\u001b[39m,\n\u001b[1;32m     <a href='vscode-notebook-cell:/Users/scheiner/Documents/GitHub/YFinance/%5BYFinance%5D%20Daily%20Stock%20Price%20Dashboard.ipynb#X10sZmlsZQ%3D%3D?line=18'>19</a>\u001b[0m      title_x\u001b[39m=\u001b[39m\u001b[39m0.5\u001b[39m,\n\u001b[0;32m   (...)\u001b[0m\n\u001b[1;32m     <a href='vscode-notebook-cell:/Users/scheiner/Documents/GitHub/YFinance/%5BYFinance%5D%20Daily%20Stock%20Price%20Dashboard.ipynb#X10sZmlsZQ%3D%3D?line=30'>31</a>\u001b[0m      )),\n\u001b[1;32m     <a href='vscode-notebook-cell:/Users/scheiner/Documents/GitHub/YFinance/%5BYFinance%5D%20Daily%20Stock%20Price%20Dashboard.ipynb#X10sZmlsZQ%3D%3D?line=31'>32</a>\u001b[0m )\n\u001b[1;32m     <a href='vscode-notebook-cell:/Users/scheiner/Documents/GitHub/YFinance/%5BYFinance%5D%20Daily%20Stock%20Price%20Dashboard.ipynb#X10sZmlsZQ%3D%3D?line=34'>35</a>\u001b[0m fig\u001b[39m.\u001b[39mupdate_layout(\n\u001b[1;32m     <a href='vscode-notebook-cell:/Users/scheiner/Documents/GitHub/YFinance/%5BYFinance%5D%20Daily%20Stock%20Price%20Dashboard.ipynb#X10sZmlsZQ%3D%3D?line=35'>36</a>\u001b[0m \n\u001b[1;32m     <a href='vscode-notebook-cell:/Users/scheiner/Documents/GitHub/YFinance/%5BYFinance%5D%20Daily%20Stock%20Price%20Dashboard.ipynb#X10sZmlsZQ%3D%3D?line=36'>37</a>\u001b[0m )\n\u001b[0;32m---> <a href='vscode-notebook-cell:/Users/scheiner/Documents/GitHub/YFinance/%5BYFinance%5D%20Daily%20Stock%20Price%20Dashboard.ipynb#X10sZmlsZQ%3D%3D?line=37'>38</a>\u001b[0m fig\u001b[39m.\u001b[39;49mshow()\n",
      "File \u001b[0;32m~/Documents/GitHub/.venv/lib/python3.11/site-packages/plotly/basedatatypes.py:3412\u001b[0m, in \u001b[0;36mBaseFigure.show\u001b[0;34m(self, *args, **kwargs)\u001b[0m\n\u001b[1;32m   3379\u001b[0m \u001b[39m\u001b[39m\u001b[39m\"\"\"\u001b[39;00m\n\u001b[1;32m   3380\u001b[0m \u001b[39mShow a figure using either the default renderer(s) or the renderer(s)\u001b[39;00m\n\u001b[1;32m   3381\u001b[0m \u001b[39mspecified by the renderer argument\u001b[39;00m\n\u001b[0;32m   (...)\u001b[0m\n\u001b[1;32m   3408\u001b[0m \u001b[39mNone\u001b[39;00m\n\u001b[1;32m   3409\u001b[0m \u001b[39m\"\"\"\u001b[39;00m\n\u001b[1;32m   3410\u001b[0m \u001b[39mimport\u001b[39;00m \u001b[39mplotly\u001b[39;00m\u001b[39m.\u001b[39;00m\u001b[39mio\u001b[39;00m \u001b[39mas\u001b[39;00m \u001b[39mpio\u001b[39;00m\n\u001b[0;32m-> 3412\u001b[0m \u001b[39mreturn\u001b[39;00m pio\u001b[39m.\u001b[39;49mshow(\u001b[39mself\u001b[39;49m, \u001b[39m*\u001b[39;49margs, \u001b[39m*\u001b[39;49m\u001b[39m*\u001b[39;49mkwargs)\n",
      "File \u001b[0;32m~/Documents/GitHub/.venv/lib/python3.11/site-packages/plotly/io/_renderers.py:396\u001b[0m, in \u001b[0;36mshow\u001b[0;34m(fig, renderer, validate, **kwargs)\u001b[0m\n\u001b[1;32m    391\u001b[0m         \u001b[39mraise\u001b[39;00m \u001b[39mValueError\u001b[39;00m(\n\u001b[1;32m    392\u001b[0m             \u001b[39m\"\u001b[39m\u001b[39mMime type rendering requires ipython but it is not installed\u001b[39m\u001b[39m\"\u001b[39m\n\u001b[1;32m    393\u001b[0m         )\n\u001b[1;32m    395\u001b[0m     \u001b[39mif\u001b[39;00m \u001b[39mnot\u001b[39;00m nbformat \u001b[39mor\u001b[39;00m Version(nbformat\u001b[39m.\u001b[39m__version__) \u001b[39m<\u001b[39m Version(\u001b[39m\"\u001b[39m\u001b[39m4.2.0\u001b[39m\u001b[39m\"\u001b[39m):\n\u001b[0;32m--> 396\u001b[0m         \u001b[39mraise\u001b[39;00m \u001b[39mValueError\u001b[39;00m(\n\u001b[1;32m    397\u001b[0m             \u001b[39m\"\u001b[39m\u001b[39mMime type rendering requires nbformat>=4.2.0 but it is not installed\u001b[39m\u001b[39m\"\u001b[39m\n\u001b[1;32m    398\u001b[0m         )\n\u001b[1;32m    400\u001b[0m     ipython_display\u001b[39m.\u001b[39mdisplay(bundle, raw\u001b[39m=\u001b[39m\u001b[39mTrue\u001b[39;00m)\n\u001b[1;32m    402\u001b[0m \u001b[39m# external renderers\u001b[39;00m\n",
      "\u001b[0;31mValueError\u001b[0m: Mime type rendering requires nbformat>=4.2.0 but it is not installed"
     ]
    }
   ],
   "source": [
    "end_date = pd.Timestamp.today(tz='America/New_York').ceil('D')\n",
    "start_date = end_date - pd.Timedelta(7,'D') # Get the last 4 days, in case of holidays/weekend\n",
    "crm = yf.Ticker(\"MSFT\")\n",
    "data = crm.history(start=start_date,end=end_date, interval='1m').reset_index()\n",
    "data = data.rename(columns=dict(Datetime='Date'))\n",
    "data = data.loc[data.Date.dt.date == data.Date.dt.date.max()] # Get only the last day's data\n",
    "\n",
    "\n",
    "fig = go.Figure(data=go.Candlestick(\n",
    "     x = data.Date,\n",
    "     open = data.Open,\n",
    "     high = data.High,\n",
    "     low = data.Low,\n",
    "     close = data.Close\n",
    "))\n",
    "\n",
    "fig.update_layout( \n",
    "     title='Microsoft (MSFT)',\n",
    "     title_x=0.5,\n",
    "     autosize=False,\n",
    "     width=800,\n",
    "     height=600,\n",
    "     xaxis= dict(rangeselector=dict(\n",
    "          buttons=list([\n",
    "               dict(count=1,\n",
    "                    label=\"1H\",\n",
    "                    step=\"hour\",\n",
    "                    stepmode=\"backward\"),\n",
    "               dict(label='1D',step=\"all\"),\n",
    "          ])\n",
    "     )),\n",
    ")\n",
    "\n",
    "\n",
    "fig.update_layout(\n",
    "\n",
    ")\n",
    "fig.show()"
   ]
  },
  {
   "cell_type": "code",
   "execution_count": null,
   "metadata": {
    "ExecuteTime": {
     "end_time": "2023-09-19T01:53:36.049503Z",
     "start_time": "2023-09-19T01:53:35.952915Z"
    },
    "collapsed": false
   },
   "outputs": [],
   "source": []
  }
 ],
 "metadata": {
  "deepnote": {
   "is_reactive": false
  },
  "deepnote_app_layout": "powerful-article",
  "deepnote_execution_queue": [],
  "deepnote_notebook_id": "c862b17de6fd4fbe80c35f9618aa2b07",
  "deepnote_persisted_session": {
   "createdAt": "2023-08-26T04:45:14.959Z"
  },
  "kernelspec": {
   "display_name": "Python 3 (ipykernel)",
   "language": "python",
   "name": "python3"
  },
  "language_info": {
   "codemirror_mode": {
    "name": "ipython",
    "version": 3
   },
   "file_extension": ".py",
   "mimetype": "text/x-python",
   "name": "python",
   "nbconvert_exporter": "python",
   "pygments_lexer": "ipython3",
   "version": "3.11.5"
  },
  "orig_nbformat": 2
 },
 "nbformat": 4,
 "nbformat_minor": 0
}
